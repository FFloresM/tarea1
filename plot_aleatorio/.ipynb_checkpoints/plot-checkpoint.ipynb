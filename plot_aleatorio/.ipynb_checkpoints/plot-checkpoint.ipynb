{
 "cells": [
  {
   "cell_type": "code",
   "execution_count": 21,
   "metadata": {},
   "outputs": [],
   "source": [
    "import pandas as pd\n",
    "import matplotlib.pyplot as plt"
   ]
  },
  {
   "cell_type": "code",
   "execution_count": 22,
   "metadata": {},
   "outputs": [
    {
     "name": "stdout",
     "output_type": "stream",
     "text": [
      "[256, 512, 1024, 2048, 4096, 8192, 16384, 32768]\n",
      "[5927, 13380, 10780, 24142, 53992, 111176, 178524, 437687]\n"
     ]
    },
    {
     "name": "stderr",
     "output_type": "stream",
     "text": [
      "C:\\Users\\usuario\\Anaconda3\\lib\\site-packages\\ipykernel_launcher.py:1: ParserWarning: Falling back to the 'python' engine because the 'c' engine does not support regex separators (separators > 1 char and different from '\\s+' are interpreted as regex); you can avoid this warning by specifying engine='python'.\n",
      "  \"\"\"Entry point for launching an IPython kernel.\n"
     ]
    }
   ],
   "source": [
    "a = pd.read_csv(\"n\", sep='\\s*,\\s*')\n",
    "n = list(a[\"n\"])\n",
    "t = list(a[\"t\"])\n",
    "print(n)\n",
    "print(t)"
   ]
  },
  {
   "cell_type": "code",
   "execution_count": 23,
   "metadata": {},
   "outputs": [
    {
     "name": "stdout",
     "output_type": "stream",
     "text": [
      "[256, 512, 1024, 2048, 4096, 8192, 16384, 32768]\n",
      "[819507, 2315479, 10758655, 48960533, 208287919, 858147922, 3491938865, 14128142989]\n"
     ]
    },
    {
     "name": "stderr",
     "output_type": "stream",
     "text": [
      "C:\\Users\\usuario\\Anaconda3\\lib\\site-packages\\ipykernel_launcher.py:1: ParserWarning: Falling back to the 'python' engine because the 'c' engine does not support regex separators (separators > 1 char and different from '\\s+' are interpreted as regex); you can avoid this warning by specifying engine='python'.\n",
      "  \"\"\"Entry point for launching an IPython kernel.\n"
     ]
    }
   ],
   "source": [
    "b = pd.read_csv(\"n2\", sep='\\s*,\\s*')\n",
    "n1 = list(b[\"n\"])\n",
    "t1 = list(b[\"t\"])\n",
    "print(n1)\n",
    "print(t1)"
   ]
  },
  {
   "cell_type": "code",
   "execution_count": 24,
   "metadata": {},
   "outputs": [
    {
     "name": "stdout",
     "output_type": "stream",
     "text": [
      "[256, 512, 1024, 2048, 4096, 8192, 16384, 32768]\n",
      "[868757, 1486216, 3801795, 79293907, 551839184, 2847966083, 12862798153, 47748101284]\n"
     ]
    },
    {
     "name": "stderr",
     "output_type": "stream",
     "text": [
      "C:\\Users\\usuario\\Anaconda3\\lib\\site-packages\\ipykernel_launcher.py:1: ParserWarning: Falling back to the 'python' engine because the 'c' engine does not support regex separators (separators > 1 char and different from '\\s+' are interpreted as regex); you can avoid this warning by specifying engine='python'.\n",
      "  \"\"\"Entry point for launching an IPython kernel.\n"
     ]
    }
   ],
   "source": [
    "c = pd.read_csv(\"nlogn\", sep='\\s*,\\s*')\n",
    "n2 = list(c[\"n\"])\n",
    "t2 = list(c[\"t\"])\n",
    "print(n2)\n",
    "print(t2)"
   ]
  },
  {
   "cell_type": "code",
   "execution_count": 47,
   "metadata": {},
   "outputs": [
    {
     "data": {
      "image/png": "[encoded data removed]",
      "text/plain": [
       "<matplotlib.figure.Figure at 0x6cef8b6ef0>"
      ]
     },
     "metadata": {},
     "output_type": "display_data"
    }
   ],
   "source": [
    "plt.plot(n,t,'bo-', label='O(n)')\n",
    "plt.plot(n1,t1,'go-', label=\"O(n^2)\")\n",
    "plt.plot(n2,t2, 'ro-', label=\"O(nlogn)\")\n",
    "plt.legend()\n",
    "plt.title(\"arreglo con valores aleatorios\")\n",
    "plt.ylabel(\"tiempo (ns)\")\n",
    "plt.xlabel(\"n\")\n",
    "plt.grid()\n",
    "plt.savefig(\"ale.png\")\n",
    "plt.show()\n"
   ]
  },
  {
   "cell_type": "code",
   "execution_count": null,
   "metadata": {},
   "outputs": [],
   "source": []
  }
 ],
 "metadata": {
  "kernelspec": {
   "display_name": "Python 3",
   "language": "python",
   "name": "python3"
  },
  "language_info": {
   "codemirror_mode": {
    "name": "ipython",
    "version": 3
   },
   "file_extension": ".py",
   "mimetype": "text/x-python",
   "name": "python",
   "nbconvert_exporter": "python",
   "pygments_lexer": "ipython3",
   "version": "3.6.7"
  }
 },
 "nbformat": 4,
 "nbformat_minor": 2
}
